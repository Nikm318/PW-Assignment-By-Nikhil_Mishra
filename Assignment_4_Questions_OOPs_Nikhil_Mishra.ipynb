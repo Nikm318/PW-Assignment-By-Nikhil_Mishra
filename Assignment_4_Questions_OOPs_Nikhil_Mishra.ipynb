{
  "nbformat": 4,
  "nbformat_minor": 0,
  "metadata": {
    "colab": {
      "provenance": []
    },
    "kernelspec": {
      "name": "python3",
      "display_name": "Python 3"
    },
    "language_info": {
      "name": "python"
    }
  },
  "cells": [
    {
      "cell_type": "markdown",
      "source": [
        "1.What is Object-Oriented Programming (OOP)?\n",
        "\n",
        "-> OOP is a programming paradigm based on the concept of “objects”, which are   instances of classes. It focuses on organizing code using:\n",
        "\n",
        "Objects (data + behavior)\n",
        "\n",
        "Classes (blueprints for objects)\n",
        "\n",
        "Example : Encapsulation, Abstraction, Inheritance, Polymorphism.\n",
        "\n"
      ],
      "metadata": {
        "id": "PHwq6EKzFqvl"
      }
    },
    {
      "cell_type": "markdown",
      "source": [
        "2.What is a class in OOP?\n",
        "\n",
        "-> A class is a blueprint for creating objects. It defines:\n",
        "\n",
        "Attributes (variables)\n",
        "\n",
        "Methods (functions/behaviors)\n",
        "\n",
        "Example:\n",
        "\n",
        "class Car:\n",
        "    def __init__(self, brand, model):\n",
        "\n",
        "        self.brand = brand\n",
        "        self.model = model"
      ],
      "metadata": {
        "id": "1UHAYze9GCg2"
      }
    },
    {
      "cell_type": "markdown",
      "source": [
        "3.What is an object in OOP?\n",
        "\n",
        "->An object is an instance of a class, having its own data and behavior.\n",
        "\n",
        "my_car = Car(\"Toyota\", \"Corolla\")"
      ],
      "metadata": {
        "id": "rhx8CyliGP7K"
      }
    },
    {
      "cell_type": "markdown",
      "source": [
        "4.What is the difference between abstraction and encapsulation?\n",
        "\n",
        "-> Abstraction\n",
        "\n",
        "Focuses on hiding complex implementation details.\n",
        "\n",
        "Shows only the essential features to the user.\n",
        "\n",
        "Helps in defining what an object does, not how it does it.\n",
        "\n",
        "Example: Calling start() on a Car without knowing engine mechanics.\n",
        "\n",
        "Acts as a filter for complexity.\n",
        "\n",
        "-> Encapsulation\n",
        "\n",
        "Focuses on hiding internal data and restricting access.\n",
        "\n",
        "Protects object’s state using private variables and getter/setter methods.\n",
        "\n",
        "Controls how data is modified to avoid unintended interference.\n",
        "\n",
        "Example: Using self.__balance in a Bank class and modifying it through methods only.\n",
        "\n",
        "Acts as a filter for secure access."
      ],
      "metadata": {
        "id": "UPhgOy9JG-3N"
      }
    },
    {
      "cell_type": "markdown",
      "source": [
        "5.What are dunder methods in Python?\n",
        "\n",
        "-> Dunder methods are special methods surrounded by double underscores __method__. They define object behavior.\n",
        "\n",
        "Examples:\n",
        "\n",
        "__init__ → constructor\n",
        "\n",
        "__str__ → string representation\n",
        "\n",
        "__add__ → define + operator"
      ],
      "metadata": {
        "id": "iimNXnq7HQ8l"
      }
    },
    {
      "cell_type": "markdown",
      "source": [
        "6.Explain the concept of inheritance in OOP\n",
        "\n",
        "-> Inheritance allows a class (child) to reuse properties and methods from another class (parent).\n",
        "Example:\n",
        "\n",
        "class Vehicle:\n",
        "\n",
        "    def start(self):\n",
        "        print(\"Vehicle started\")\n",
        "\n",
        "class Car(Vehicle):\n",
        "\n",
        "    pass\n",
        "\n",
        "my_car = Car()\n",
        "\n",
        "my_car.start()  # Inherited from Vehicle"
      ],
      "metadata": {
        "id": "WrOR7wcbHXCp"
      }
    },
    {
      "cell_type": "markdown",
      "source": [
        "7.What is polymorphism in OOP?\n",
        "\n",
        "-> Polymorphism allows one interface to represent multiple forms:\n",
        "\n",
        "Method overriding (same method, different behavior)\n",
        "\n",
        "Operator overloading\n",
        "\n",
        "Example:\n",
        "\n",
        "print(len(\"Hello\"))  # len works for string\n",
        "\n",
        "print(len([1,2,3]))  # len works for list"
      ],
      "metadata": {
        "id": "-vfiaDtqHi2v"
      }
    },
    {
      "cell_type": "markdown",
      "source": [
        "8.How is encapsulation achieved in Python?\n",
        "\n",
        "-> By making variables private using underscores:\n",
        "\n",
        "class Bank:\n",
        "\n",
        "    def __init__(self):\n",
        "        self.__balance = 0  # private variable\n",
        "\n",
        "    def deposit(self, amount):\n",
        "        self.__balance += amount"
      ],
      "metadata": {
        "id": "R15S2okYHvlR"
      }
    },
    {
      "cell_type": "markdown",
      "source": [
        "9.What is a constructor in Python?\n",
        "\n",
        "-> A constructor initializes an object. In Python, it’s the __init__ method.\n",
        "\n",
        "class Person:\n",
        "\n",
        "    def __init__(self, name):\n",
        "        self.name = name"
      ],
      "metadata": {
        "id": "7_DeLnjtH5vq"
      }
    },
    {
      "cell_type": "markdown",
      "source": [
        "10.What are class and static methods in Python?\n",
        "\n",
        "-> Class method: Works with the class itself; uses @classmethod and cls.\n",
        "\n",
        "Static method: Independent of class/instance; uses @staticmethod.\n",
        "\n",
        "class Example:\n",
        "\n",
        "    @classmethod\n",
        "    def cls_method(cls):\n",
        "        print(cls)\n",
        "\n",
        "    @staticmethod\n",
        "    def static_method():\n",
        "        print(\"Static\")"
      ],
      "metadata": {
        "id": "2F3jOfhlIFhy"
      }
    },
    {
      "cell_type": "markdown",
      "source": [
        "11.What is method overloading in Python?\n",
        "\n",
        "-> Method overloading: multiple methods with same name, different parameters.\n",
        "\n",
        "Python doesn’t support it directly; We can use default arguments.\n",
        "\n",
        "def add(a, b=0):\n",
        "\n",
        "    return a + b"
      ],
      "metadata": {
        "id": "bNJKZmoWIRaW"
      }
    },
    {
      "cell_type": "markdown",
      "source": [
        "12.What is method overriding in OOP?\n",
        "\n",
        "-> Overriding: A child class redefines a method from parent class.\n",
        "\n",
        "class Animal:\n",
        "\n",
        "    def sound(self):\n",
        "        print(\"Animal sound\")\n",
        "\n",
        "class Dog(Animal):\n",
        "\n",
        "    def sound(self):\n",
        "        print(\"Bark\")"
      ],
      "metadata": {
        "id": "MHNdNUSaIepo"
      }
    },
    {
      "cell_type": "markdown",
      "source": [
        "13. What is a property decorator in Python?\n",
        "\n",
        "-> @property allows method access like an attribute.\n",
        "\n",
        "class Circle:\n",
        "\n",
        "    def __init__(self, radius):\n",
        "        self.radius = radius\n",
        "\n",
        "    @property\n",
        "    def area(self):\n",
        "        return 3.14 * self.radius**2"
      ],
      "metadata": {
        "id": "ecqOHGGFIlPZ"
      }
    },
    {
      "cell_type": "markdown",
      "source": [
        "14.Why is polymorphism important in OOP?\n",
        "\n",
        "-> Provides flexibility and code reusability\n",
        "\n",
        "Enables generic interfaces\n",
        "\n",
        "Makes code easier to maintain"
      ],
      "metadata": {
        "id": "c9HNWZrSItxf"
      }
    },
    {
      "cell_type": "markdown",
      "source": [
        "15.What is an abstract class in Python?\n",
        "\n",
        "-> A class with abstract methods (methods without implementation) using abc module.\n",
        "\n",
        "from abc import ABC, abstractmethod\n",
        "\n",
        "class Shape(ABC):\n",
        "\n",
        "    @abstractmethod\n",
        "    def area(self):\n",
        "        pass"
      ],
      "metadata": {
        "id": "aQJEmh-wI7vC"
      }
    },
    {
      "cell_type": "markdown",
      "source": [
        "16.What are Advantages of OOP?\n",
        "\n",
        "-> Code reusability\n",
        "\n",
        "Easier maintenance\n",
        "\n",
        "Encapsulation enhances security\n",
        "\n",
        "Polymorphism adds flexibility\n",
        "\n",
        "Inheritance avoids redundancy"
      ],
      "metadata": {
        "id": "IFLmNer1JFb0"
      }
    },
    {
      "cell_type": "markdown",
      "source": [
        "17.What is multiple inheritance in Python?\n",
        "\n",
        "A class inherits from more than one parent class:\n",
        "\n",
        "Example:\n",
        "\n",
        "class A: pass\n",
        "\n",
        "class B: pass\n",
        "\n",
        "class C(A, B): pass"
      ],
      "metadata": {
        "id": "_-NszI4zJSys"
      }
    },
    {
      "cell_type": "markdown",
      "source": [
        "18.Difference between class variable and instance variable?\n",
        "\n",
        "->\n",
        "The primary differences between a class variable and an instance variable in object-oriented programming are related to their scope, ownership, and accessibility:\n",
        "\n",
        "Class Variables\n",
        "\n",
        "Definition/Scope: Defined within the class but outside of any method (like the constructor). They belong to the class itself.\n",
        "\n",
        "Ownership: Owned by the class. There is only one copy of the variable, regardless of how many objects (instances) are created.\n",
        "\n",
        "Sharing: Shared among all instances (objects) of the class. If one instance changes the class variable, the change is reflected in all other instances.\n",
        "\n",
        "Usage: Used for data that should be common to all instances, such as constants, default values, or a counter for the number of instances created.\n",
        "\n",
        "Access: Generally accessed using the Class Name (e.g., ClassName.class_variable).\n",
        "\n",
        "Instance Variables\n",
        "\n",
        "Definition/Scope: Typically defined inside class methods, most commonly within the constructor (__init__ in Python, using self. or this. depending on the language).\n",
        "\n",
        "Ownership: Owned by the instance (object). Each object has its own unique copy of the variable.\n",
        "\n",
        "Sharing: Not shared. Changes made to an instance variable in one object do not affect the same variable in other objects.\n",
        "\n",
        "Usage: Used for storing data that is unique to each instance, such as an object's name, age, or specific state.\n",
        "\n",
        "Access: Accessed using the instance name (e.g., object_name.instance_variable).\n"
      ],
      "metadata": {
        "id": "nImKZf6cJgIg"
      }
    },
    {
      "cell_type": "markdown",
      "source": [
        "19.Explain the Purpose of __str__ and __repr__ in Python?\n",
        "\n",
        "__str__ → Readable string for users\n",
        "\n",
        "__repr__ → Unambiguous string for developers\n",
        "\n",
        "class Person:\n",
        "\n",
        "    def __repr__(self):\n",
        "        return \"Person()\"\n",
        "    def __str__(self):\n",
        "        return \"Person object\""
      ],
      "metadata": {
        "id": "GmI2Qfr2J6NT"
      }
    },
    {
      "cell_type": "markdown",
      "source": [
        "20.Significance of super() in Python ?\n",
        "\n",
        "-> Used to call parent class methods inside child class.\n",
        "\n",
        "class Parent:\n",
        "\n",
        "    def greet(self):\n",
        "        print(\"Hello\")\n",
        "\n",
        "class Child(Parent):\n",
        "\n",
        "    def greet(self):\n",
        "        super().greet()\n",
        "        print(\"World\")"
      ],
      "metadata": {
        "id": "8Za0WImuKEKu"
      }
    },
    {
      "cell_type": "markdown",
      "source": [
        "21.Significance of __del__ method in Python?\n",
        "\n",
        "Destructor method, called when object is about to be destroyed.\n",
        "\n",
        "def __del__(self):\n",
        "\n",
        "    print(\"Object deleted\")"
      ],
      "metadata": {
        "id": "vh1FxYzyKPh3"
      }
    },
    {
      "cell_type": "markdown",
      "source": [
        "22.Difference between @staticmethod and @classmethod in python?\n",
        "\n",
        "->The difference between @staticmethod and @classmethod in Python:\n",
        "\n",
        "@classmethod\n",
        "\n",
        "Takes the class itself as the first argument, conventionally named cls.\n",
        "\n",
        "Can access or modify class state (data) that applies across all instances of the class.\n",
        "\n",
        "@staticmethod\n",
        "\n",
        "Takes no specific first argument (like self or cls). It's just a regular function defined inside a class.\n",
        "\n",
        "Cannot access or modify either the class state or the instance state; it's logically isolated from the object and class."
      ],
      "metadata": {
        "id": "-W6qKUCOKWni"
      }
    },
    {
      "cell_type": "markdown",
      "source": [
        "23. How does polymorphism work with inheritance?\n",
        "\n",
        "->Child class can override parent methods\n",
        "\n",
        "Parent references can point to child objects, allowing dynamic behavior.\n",
        "\n",
        "Example:\n",
        "\n",
        "def make_sound(animal):\n",
        "\n",
        "    animal.sound()  # works with any subclass of Animal"
      ],
      "metadata": {
        "id": "ks46kBTJKz4_"
      }
    },
    {
      "cell_type": "markdown",
      "source": [
        "24. What is method chaining in Python OOP?\n",
        "\n",
        "-> Calling multiple methods in a single line by returning self.\n",
        "\n",
        "class Sample:\n",
        "\n",
        "    def a(self):\n",
        "        print(\"a\")\n",
        "        return self\n",
        "    def b(self):\n",
        "        print(\"b\")\n",
        "        return self\n",
        "\n",
        "Sample().a().b()"
      ],
      "metadata": {
        "id": "99q9aMn3K-v-"
      }
    },
    {
      "cell_type": "markdown",
      "source": [
        "25.Explain the Purpose of __call__ method in Python?\n",
        "\n",
        "-> Allows an object to be called like a function.\n",
        "\n",
        "class Demo:\n",
        "\n",
        "    def __call__(self):\n",
        "        print(\"Called!\")\n",
        "\n",
        "d = Demo()\n",
        "\n",
        "d()  # Invokes __call__"
      ],
      "metadata": {
        "id": "zWBHXiQQLEkk"
      }
    },
    {
      "cell_type": "code",
      "source": [
        "#1. Create a parent class Animal with a method speak() that prints a generic message. Create a child class Dog that overrides the speak() method to print \"Bark!\".\n",
        "class Animal:\n",
        "    def speak(self):\n",
        "        print(\"Animal makes a sound\")\n",
        "\n",
        "class Dog(Animal):\n",
        "    def speak(self):\n",
        "        print(\"Bark!\")\n",
        "\n",
        "# Example\n",
        "d = Dog()\n",
        "d.speak()\n"
      ],
      "metadata": {
        "id": "YRSOYo3iLW1n",
        "colab": {
          "base_uri": "https://localhost:8080/"
        },
        "outputId": "0cbb5638-69f6-499a-dbb5-0191a9f38213"
      },
      "execution_count": 1,
      "outputs": [
        {
          "output_type": "stream",
          "name": "stdout",
          "text": [
            "Bark!\n"
          ]
        }
      ]
    },
    {
      "cell_type": "code",
      "source": [
        "#2. Write a program to create an abstract class Shape with a method area(). Derive classes Circle and Rectangle from it and implement the area() method in both.\n",
        "from abc import ABC, abstractmethod\n",
        "\n",
        "class Shape(ABC):\n",
        "    @abstractmethod\n",
        "    def area(self):\n",
        "        pass\n",
        "\n",
        "class Circle(Shape):\n",
        "    def __init__(self, radius):\n",
        "        self.radius = radius\n",
        "\n",
        "    def area(self):\n",
        "        return 3.14 * self.radius ** 2\n",
        "\n",
        "class Rectangle(Shape):\n",
        "    def __init__(self, length, width):\n",
        "        self.length = length\n",
        "        self.width = width\n",
        "\n",
        "    def area(self):\n",
        "        return self.length * self.width\n",
        "\n",
        "# Example\n",
        "c = Circle(5)\n",
        "r = Rectangle(4, 6)\n",
        "print(\"Circle Area:\", c.area())\n",
        "print(\"Rectangle Area:\", r.area())\n"
      ],
      "metadata": {
        "colab": {
          "base_uri": "https://localhost:8080/"
        },
        "id": "UAybZj4kMEIz",
        "outputId": "9eb58847-0b36-4796-dc5a-92e46df9d7d7"
      },
      "execution_count": 2,
      "outputs": [
        {
          "output_type": "stream",
          "name": "stdout",
          "text": [
            "Circle Area: 78.5\n",
            "Rectangle Area: 24\n"
          ]
        }
      ]
    },
    {
      "cell_type": "code",
      "source": [
        "#3. Implement a multi-level inheritance scenario where a class Vehicle has an attribute type. Derive a class Car and further derive a class ElectricCar that adds a battery attribute\n",
        "class Vehicle:\n",
        "    def __init__(self, type):\n",
        "        self.type = type\n",
        "\n",
        "class Car(Vehicle):\n",
        "    def __init__(self, type, brand):\n",
        "        super().__init__(type)\n",
        "        self.brand = brand\n",
        "\n",
        "class ElectricCar(Car):\n",
        "    def __init__(self, type, brand, battery):\n",
        "        super().__init__(type, brand)\n",
        "        self.battery = battery\n",
        "\n",
        "# Example\n",
        "e = ElectricCar(\"Four Wheeler\", \"Tata\", \"85 kWh\")\n",
        "print(e.type, e.brand, e.battery)\n"
      ],
      "metadata": {
        "colab": {
          "base_uri": "https://localhost:8080/"
        },
        "id": "FzhTtBP-MPuC",
        "outputId": "ff491a39-a48d-4337-d385-4c358e6d188f"
      },
      "execution_count": 4,
      "outputs": [
        {
          "output_type": "stream",
          "name": "stdout",
          "text": [
            "Four Wheeler Tata 85 kWh\n"
          ]
        }
      ]
    },
    {
      "cell_type": "code",
      "source": [
        "#4. Demonstrate polymorphism by creating a base class Bird with a method fly(). Create two derived classes Sparrow and Penguin that override the fly() method.\n",
        "class Bird:\n",
        "    def fly(self):\n",
        "        print(\"Some birds can fly\")\n",
        "\n",
        "class Sparrow(Bird):\n",
        "    def fly(self):\n",
        "        print(\"Sparrow flies high in the sky\")\n",
        "\n",
        "class Penguin(Bird):\n",
        "    def fly(self):\n",
        "        print(\"Penguins cannot fly\")\n",
        "\n",
        "# Example\n",
        "birds = [Sparrow(), Penguin()]\n",
        "for b in birds:\n",
        "    b.fly()\n"
      ],
      "metadata": {
        "colab": {
          "base_uri": "https://localhost:8080/"
        },
        "id": "B8QOCa0HMdxt",
        "outputId": "2741f00b-f5c7-4162-de0e-06a55f61f954"
      },
      "execution_count": 5,
      "outputs": [
        {
          "output_type": "stream",
          "name": "stdout",
          "text": [
            "Sparrow flies high in the sky\n",
            "Penguins cannot fly\n"
          ]
        }
      ]
    },
    {
      "cell_type": "code",
      "source": [
        "#5. Write a program to demonstrate encapsulation by creating a class BankAccount with private attributes balance and methods to deposit, withdraw, and check balance.\n",
        "class BankAccount:\n",
        "    def __init__(self, balance=0):\n",
        "        self.__balance = balance\n",
        "\n",
        "    def deposit(self, amount):\n",
        "        self.__balance += amount\n",
        "\n",
        "    def withdraw(self, amount):\n",
        "        if amount <= self.__balance:\n",
        "            self.__balance -= amount\n",
        "        else:\n",
        "            print(\"Insufficient balance\")\n",
        "\n",
        "    def check_balance(self):\n",
        "        print(\"Current Balance:\", self.__balance)\n",
        "\n",
        "# Example\n",
        "acc = BankAccount()\n",
        "acc.deposit(10000000000)\n",
        "acc.withdraw(20000)\n",
        "acc.check_balance()\n"
      ],
      "metadata": {
        "colab": {
          "base_uri": "https://localhost:8080/"
        },
        "id": "jyKzDBaEMw_v",
        "outputId": "a82f05f1-a1cb-4e47-e1e6-3cf42da0fd81"
      },
      "execution_count": 7,
      "outputs": [
        {
          "output_type": "stream",
          "name": "stdout",
          "text": [
            "Current Balance: 9999980000\n"
          ]
        }
      ]
    },
    {
      "cell_type": "code",
      "source": [
        "#6. Demonstrate runtime polymorphism using a method play() in a base class Instrument. Derive classes Guitar and Piano that implement their own version of play().\n",
        "class Instrument:\n",
        "    def play(self):\n",
        "        print(\"Some instrument sounds\")\n",
        "\n",
        "class Guitar(Instrument):\n",
        "    def play(self):\n",
        "        print(\"Guitar sounds\")\n",
        "\n",
        "class Piano(Instrument):\n",
        "    def play(self):\n",
        "        print(\"Piano sounds\")\n",
        "        # Example\n",
        "instruments = [Guitar(), Piano()]\n",
        "for i in instruments:\n",
        "    i.play()"
      ],
      "metadata": {
        "colab": {
          "base_uri": "https://localhost:8080/"
        },
        "id": "TCKM0-CtNAY9",
        "outputId": "2090d969-1207-4de4-d0b0-df1ae6db5078"
      },
      "execution_count": 8,
      "outputs": [
        {
          "output_type": "stream",
          "name": "stdout",
          "text": [
            "Guitar sounds\n",
            "Piano sounds\n"
          ]
        }
      ]
    },
    {
      "cell_type": "code",
      "source": [
        "#7. Create a class MathOperations with a class method add_numbers() to add two numbers and a static method subtract_numbers() to subtract two numbers.\n",
        "class MathOperations:\n",
        "    @classmethod\n",
        "    def add_numbers(cls, a, b):\n",
        "        return a + b\n",
        "\n",
        "    @staticmethod\n",
        "    def subtract_numbers(a, b):\n",
        "        return a - b\n",
        "\n",
        "# Example\n",
        "print(MathOperations.add_numbers(5, 3))\n",
        "print(MathOperations.subtract_numbers(10, 4))\n"
      ],
      "metadata": {
        "colab": {
          "base_uri": "https://localhost:8080/"
        },
        "id": "BXPLO1KMNNqa",
        "outputId": "5baad61f-5bdf-462e-9665-861d8249e6db"
      },
      "execution_count": 9,
      "outputs": [
        {
          "output_type": "stream",
          "name": "stdout",
          "text": [
            "8\n",
            "6\n"
          ]
        }
      ]
    },
    {
      "cell_type": "code",
      "source": [
        "#8. Implement a class Person with a class method to count the total number of persons created.\n",
        "class Person:\n",
        "    count = 0\n",
        "\n",
        "    def __init__(self, name):\n",
        "        self.name = name\n",
        "        Person.count += 1\n",
        "\n",
        "    @classmethod\n",
        "    def total_persons(cls):\n",
        "        return cls.count\n",
        "\n",
        "# Example\n",
        "p1 = Person(\"Nikhil\")\n",
        "p2 = Person(\"Garima\")\n",
        "print(\"Total Persons:\", Person.total_persons())\n"
      ],
      "metadata": {
        "colab": {
          "base_uri": "https://localhost:8080/"
        },
        "id": "h4vidIJqNWH1",
        "outputId": "3d1921f3-1085-4eb6-bd26-15e92e7e2bb1"
      },
      "execution_count": 12,
      "outputs": [
        {
          "output_type": "stream",
          "name": "stdout",
          "text": [
            "Total Persons: 2\n"
          ]
        }
      ]
    },
    {
      "cell_type": "code",
      "source": [
        "#9. Write a class Fraction with attributes numerator and denominator. Override the str method to display the fraction as \"numerator/denominator\".\n",
        "class Fraction:\n",
        "    def __init__(self, numerator, denominator):\n",
        "        self.numerator = numerator\n",
        "        self.denominator = denominator\n",
        "\n",
        "    def __str__(self):\n",
        "        return f\"{self.numerator}/{self.denominator}\"\n",
        "\n",
        "# Example\n",
        "f = Fraction(3, 4)\n",
        "print(f)\n"
      ],
      "metadata": {
        "colab": {
          "base_uri": "https://localhost:8080/"
        },
        "id": "7vSFGfHRNuNv",
        "outputId": "0d1d4582-0be3-46de-b1d4-79651dbd9545"
      },
      "execution_count": 13,
      "outputs": [
        {
          "output_type": "stream",
          "name": "stdout",
          "text": [
            "3/4\n"
          ]
        }
      ]
    },
    {
      "cell_type": "code",
      "source": [
        "#10. Demonstrate operator overloading by creating a class Vector and overriding the add method to add two vectors.\n",
        "class Vector:\n",
        "    def __init__(self, x, y):\n",
        "        self.x = x\n",
        "        self.y = y\n",
        "\n",
        "    def __add__(self, other):\n",
        "        return Vector(self.x + other.x, self.y + other.y)\n",
        "\n",
        "    def __str__(self):\n",
        "        return f\"Vector({self.x}, {self.y})\"\n",
        "\n",
        "# Example\n",
        "v1 = Vector(2, 4)\n",
        "v2 = Vector(3, 5)\n",
        "print(v1 + v2)\n"
      ],
      "metadata": {
        "colab": {
          "base_uri": "https://localhost:8080/"
        },
        "id": "-kA2kxzZN45E",
        "outputId": "5daa0c65-5a72-424e-8e21-c33579e7dc91"
      },
      "execution_count": 14,
      "outputs": [
        {
          "output_type": "stream",
          "name": "stdout",
          "text": [
            "Vector(5, 9)\n"
          ]
        }
      ]
    },
    {
      "cell_type": "code",
      "source": [
        "#11. Create a class Person with attributes name and age. Add a method greet() that prints \"Hello, my name is {name} and I am {age} years old.\"\n",
        "class Person:\n",
        "    def __init__(self, name, age):\n",
        "        self.name = name\n",
        "        self.age = age\n",
        "\n",
        "    def greet(self):\n",
        "        print(f\"Hello, my name is {self.name} and I am {self.age} years old.\")\n",
        "\n",
        "# Example\n",
        "p = Person(\"Nikhil\", 25)\n",
        "p.greet()\n"
      ],
      "metadata": {
        "colab": {
          "base_uri": "https://localhost:8080/"
        },
        "id": "0L2A1wf0ODvb",
        "outputId": "fe881297-7075-499e-eb70-291d60b7c4cd"
      },
      "execution_count": 15,
      "outputs": [
        {
          "output_type": "stream",
          "name": "stdout",
          "text": [
            "Hello, my name is Nikhil and I am 25 years old.\n"
          ]
        }
      ]
    },
    {
      "cell_type": "code",
      "source": [
        "#12. Implement a class Student with attributes name and grades. Create a method average_grade() to compute the average of the grades.\n",
        "class Student:\n",
        "    def __init__(self, name, grades):\n",
        "        self.name = name\n",
        "        self.grades = grades\n",
        "\n",
        "    def average_grade(self):\n",
        "        return sum(self.grades) / len(self.grades)\n",
        "\n",
        "# Example\n",
        "s = Student(\"Nikhil\", [80, 90, 85])\n",
        "print(\"Average Grade:\", s.average_grade())\n"
      ],
      "metadata": {
        "colab": {
          "base_uri": "https://localhost:8080/"
        },
        "id": "akvvzyvJOM6P",
        "outputId": "5a2d8ca1-eb0e-4a0c-9c3d-b4c029779719"
      },
      "execution_count": 16,
      "outputs": [
        {
          "output_type": "stream",
          "name": "stdout",
          "text": [
            "Average Grade: 85.0\n"
          ]
        }
      ]
    },
    {
      "cell_type": "code",
      "source": [
        "#13. Create a class Rectangle with methods set_dimensions() to set the dimensions and area() to calculate the area.\n",
        "class Rectangle:\n",
        "    def set_dimensions(self, length, width):\n",
        "        self.length = length\n",
        "        self.width = width\n",
        "\n",
        "    def area(self):\n",
        "        return self.length * self.width\n",
        "\n",
        "# Example\n",
        "r = Rectangle()\n",
        "r.set_dimensions(5, 3)\n",
        "print(\"Area of Rectangle:\", r.area())\n"
      ],
      "metadata": {
        "colab": {
          "base_uri": "https://localhost:8080/"
        },
        "id": "zTmVBrVJOYDi",
        "outputId": "6c6174ce-13ee-4ca0-a666-c354f151a064"
      },
      "execution_count": 17,
      "outputs": [
        {
          "output_type": "stream",
          "name": "stdout",
          "text": [
            "Area of Rectangle: 15\n"
          ]
        }
      ]
    },
    {
      "cell_type": "code",
      "source": [
        "#14. Create a class Employee with a method calculate_salary() that computes the salary based on hours worked and hourly rate. Create a derived class Manager that adds a bonus to the salary.\n",
        "class Employee:\n",
        "    def __init__(self, hours_worked, hourly_rate):\n",
        "        self.hours_worked = hours_worked\n",
        "        self.hourly_rate = hourly_rate\n",
        "\n",
        "    def calculate_salary(self):\n",
        "        return self.hours_worked * self.hourly_rate\n",
        "\n",
        "class Manager(Employee):\n",
        "    def __init__(self, hours_worked, hourly_rate, bonus):\n",
        "        super().__init__(hours_worked, hourly_rate)\n",
        "        self.bonus = bonus\n",
        "\n",
        "    def calculate_salary(self):\n",
        "        return super().calculate_salary() + self.bonus\n",
        "\n",
        "# Example\n",
        "m = Manager(40, 500, 2000)\n",
        "print(\"Manager Salary:\", m.calculate_salary())\n"
      ],
      "metadata": {
        "colab": {
          "base_uri": "https://localhost:8080/"
        },
        "id": "LNzDtN_DOfpM",
        "outputId": "e772848f-22b4-4c10-f08f-275dfe126955"
      },
      "execution_count": 18,
      "outputs": [
        {
          "output_type": "stream",
          "name": "stdout",
          "text": [
            "Manager Salary: 22000\n"
          ]
        }
      ]
    },
    {
      "cell_type": "code",
      "source": [
        "#15. Create a class Product with attributes name, price, and quantity. Implement a method total_price() that calculates the total price of the product.\n",
        "class Product:\n",
        "    def __init__(self, name, price, quantity):\n",
        "        self.name = name\n",
        "        self.price = price\n",
        "        self.quantity = quantity\n",
        "\n",
        "    def total_price(self):\n",
        "        return self.price * self.quantity\n",
        "\n",
        "# Example\n",
        "p = Product(\"Laptop\", 60000, 2)\n",
        "print(f\"Total Price for {p.name}: ₹{p.total_price()}\")\n",
        "\n"
      ],
      "metadata": {
        "colab": {
          "base_uri": "https://localhost:8080/"
        },
        "id": "vS4VzArsOqAo",
        "outputId": "a5205385-4766-4cfd-eb21-f16ac66935f4"
      },
      "execution_count": 19,
      "outputs": [
        {
          "output_type": "stream",
          "name": "stdout",
          "text": [
            "Total Price for Laptop: ₹120000\n"
          ]
        }
      ]
    },
    {
      "cell_type": "code",
      "source": [
        "#16. Create a class Animal with an abstract method sound(). Create two derived classes Cow and Sheep that implement the sound() method.\n",
        "from abc import ABC, abstractmethod\n",
        "\n",
        "class Animal(ABC):\n",
        "    @abstractmethod\n",
        "    def sound(self):\n",
        "        pass\n",
        "\n",
        "class Cow(Animal):\n",
        "    def sound(self):\n",
        "        print(\"Moo!\")\n",
        "\n",
        "class Sheep(Animal):\n",
        "    def sound(self):\n",
        "        print(\"Baa!\")\n",
        "\n",
        "# Example\n",
        "c = Cow()\n",
        "s = Sheep()\n",
        "c.sound()\n",
        "s.sound()\n",
        "\n"
      ],
      "metadata": {
        "colab": {
          "base_uri": "https://localhost:8080/"
        },
        "id": "f1Q6mH5XOqm4",
        "outputId": "396bd1b8-7fc0-4b6d-96eb-72a16267a3b6"
      },
      "execution_count": 20,
      "outputs": [
        {
          "output_type": "stream",
          "name": "stdout",
          "text": [
            "Moo!\n",
            "Baa!\n"
          ]
        }
      ]
    },
    {
      "cell_type": "code",
      "source": [
        "#17. Create a class Book with attributes title, author, and year_published. Add a method get_book_info() that returns a formatted string with the book's details.\n",
        "class Book:\n",
        "    def __init__(self, title, author, year_published):\n",
        "        self.title = title\n",
        "        self.author = author\n",
        "        self.year_published = year_published\n",
        "\n",
        "    def get_book_info(self):\n",
        "        return f\"'{self.title}' by {self.author}, published in {self.year_published}\"\n",
        "\n",
        "# Example\n",
        "b = Book(\"The Alchemist\", \"Paulo Coelho\", 1988)\n",
        "print(b.get_book_info())\n",
        "\n"
      ],
      "metadata": {
        "colab": {
          "base_uri": "https://localhost:8080/"
        },
        "id": "VgCyc5vBOrOy",
        "outputId": "9cb88873-a099-4b9d-a80b-0c00a753f1d2"
      },
      "execution_count": 21,
      "outputs": [
        {
          "output_type": "stream",
          "name": "stdout",
          "text": [
            "'The Alchemist' by Paulo Coelho, published in 1988\n"
          ]
        }
      ]
    },
    {
      "cell_type": "code",
      "source": [
        "#18. Create a class House with attributes address and price. Create a derived class Mansion that adds an attribute number_of_rooms.\n",
        "class House:\n",
        "    def __init__(self, address, price):\n",
        "        self.address = address\n",
        "        self.price = price\n",
        "\n",
        "class Mansion(House):\n",
        "    def __init__(self, address, price, number_of_rooms):\n",
        "        super().__init__(address, price)\n",
        "        self.number_of_rooms = number_of_rooms\n",
        "\n",
        "# Example\n",
        "m = Mansion(\"123 Mountain View\", 50000000, 12)\n",
        "print(f\"Mansion Address: {m.address}, Price: ₹{m.price}, Rooms: {m.number_of_rooms}\")\n",
        "\n"
      ],
      "metadata": {
        "colab": {
          "base_uri": "https://localhost:8080/"
        },
        "id": "cuZOO0gpOrpD",
        "outputId": "a8c4dad0-bbf4-4b5a-bdc4-27a653d3f096"
      },
      "execution_count": 23,
      "outputs": [
        {
          "output_type": "stream",
          "name": "stdout",
          "text": [
            "Mansion Address: 123 Mountain View, Price: ₹50000000, Rooms: 12\n"
          ]
        }
      ]
    }
  ]
}