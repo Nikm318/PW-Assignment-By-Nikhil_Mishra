{
  "nbformat": 4,
  "nbformat_minor": 0,
  "metadata": {
    "colab": {
      "provenance": []
    },
    "kernelspec": {
      "name": "python3",
      "display_name": "Python 3"
    },
    "language_info": {
      "name": "python"
    }
  },
  "cells": [
    {
      "cell_type": "markdown",
      "source": [
        "1.What is Python, and why is it popular?\n",
        "\n",
        "-> A high-level, interpreted programming language created by Guido van Rossum in 1991.\n",
        "\n",
        "Known for its simple, readable syntax (close to English).\n",
        "\n",
        "Supports multiple paradigms – procedural, object-oriented, and functional programming.\n",
        "\n",
        "Why is Python Popular?\n",
        "\n",
        "Easy to learn & read – beginner-friendly syntax.\n",
        "\n",
        "Versatile – used in web development, data science, AI/ML, automation, etc.\n",
        "\n",
        "Rich libraries & frameworks – e.g., Pandas, NumPy, TensorFlow, Django, Flask.\n",
        "\n",
        "Large community support – strong documentation, forums, and open-source contributions.\n",
        "\n",
        "Cross-platform – runs on Windows, macOS, Linux, and more.\n",
        "\n",
        " Industry demand – used by top companies like Google, Netflix, NASA, and Instagram."
      ],
      "metadata": {
        "id": "foPsqkyJvH2i"
      }
    },
    {
      "cell_type": "markdown",
      "source": [
        "2.What is an interpreter in Python?\n",
        "\n",
        "-> Python is an interpreted language, meaning code is executed line by line.\n",
        "\n",
        "The Python interpreter translates Python code into machine-readable instructions at runtime.\n",
        "\n",
        "This makes debugging easier but can be slower than compiled languages."
      ],
      "metadata": {
        "id": "8rzoIxXowMH9"
      }
    },
    {
      "cell_type": "markdown",
      "source": [
        "3.What are pre-defined keywords in Python?\n",
        "\n",
        "-> Keywords are reserved words in Python with special meanings.\n",
        "\n",
        "They cannot be used as identifiers (like variable names or function names).\n",
        "\n",
        "Examples: if, else, while, for, class, import, True, False, None."
      ],
      "metadata": {
        "id": "gt6IXgwnwx9B"
      }
    },
    {
      "cell_type": "markdown",
      "source": [
        "4.Can keywords be used as variable names?\n",
        "\n",
        "-> No, keywords cannot be used as variable names.\n",
        "   \n",
        "  if we do so it cause an error"
      ],
      "metadata": {
        "id": "DTfx0q5AxCcl"
      }
    },
    {
      "cell_type": "markdown",
      "source": [
        "5.What is mutability in Python?\n",
        "\n",
        "-> Mutability refers to whether an object’s value can be changed after creation.\n",
        "\n",
        "Mutable objects → Can be modified (e.g., lists, dictionaries, sets).\n",
        "\n",
        "Immutable objects → Cannot be modified (e.g., strings, tuples, integers)."
      ],
      "metadata": {
        "id": "1lbOrCTIxWj8"
      }
    },
    {
      "cell_type": "markdown",
      "source": [
        "6.Why are lists mutable, but tuples are immutable?\n",
        "\n",
        "-> Lists are designed for dynamic data storage → elements can be added, removed, or changed.\n",
        "\n",
        "Tuples are fixed collections → used where data integrity is required.\n",
        "\n",
        "This design makes tuples faster and more memory efficient."
      ],
      "metadata": {
        "id": "Elta6R9wxgpJ"
      }
    },
    {
      "cell_type": "markdown",
      "source": [
        "7.What is the difference between “==” and “is” operators in Python?\n",
        "\n",
        "-> (==)  Checks value equality (whether two objects have the same value).\n",
        "\n",
        "(is ) Checks identity (whether two references point to the same object in memory)."
      ],
      "metadata": {
        "id": "RS69X05sxtab"
      }
    },
    {
      "cell_type": "markdown",
      "source": [
        "8.What are logical operators in Python?\n",
        "\n",
        "-> Used to combine conditional statements.\n",
        "\n",
        "Operators:\n",
        "\n",
        "and - True if both conditions are true.\n",
        "\n",
        "or - True if at least one condition is true.\n",
        "\n",
        "not - Negates the condition."
      ],
      "metadata": {
        "id": "3bs9NDJux-lx"
      }
    },
    {
      "cell_type": "markdown",
      "source": [
        "9.What is type casting in Python?\n",
        "\n",
        "-> Converting one data type into another.\n",
        "\n",
        "for eg. coverting string to integer"
      ],
      "metadata": {
        "id": "bosbve2UyY8U"
      }
    },
    {
      "cell_type": "markdown",
      "source": [
        "10.What is the difference between implicit and explicit type casting?\n",
        "\n",
        "-> Implicit casting happens automatically by the compiler or interpreter without any explicit instruction from the programmer.\n",
        "\n",
        "This occurs when:\n",
        "The conversion is considered \"safe\" (no data loss)\n",
        "\n",
        "The target type can accommodate all possible values of the source type\n",
        "\n",
        "It follows the language's type promotion rules.\n",
        "\n",
        "Explicit casting requires the programmer to manually specify the type conversion using casting operators or functions. This is necessary when:\n",
        "\n",
        "The conversion might result in data loss\n",
        "\n",
        "Converting from a larger to smaller data type\n",
        "\n",
        "The conversion isn't automatically handled by the language"
      ],
      "metadata": {
        "id": "mWbnWwjdyqqi"
      }
    },
    {
      "cell_type": "markdown",
      "source": [
        "11.What is the purpose of conditional statements in Python?\n",
        "\n",
        "-> They allow execution of different blocks of code based on conditions.\n",
        "\n",
        "And also used for decision-making,Data validation and Problem Flow control."
      ],
      "metadata": {
        "id": "gubhqbQ1TbJQ"
      }
    },
    {
      "cell_type": "markdown",
      "source": [
        "12.How does the elif statement work?\n",
        "\n",
        "-> elif = else if.\n",
        "\n",
        "It's used when you need to test several different conditions and execute different code blocks based on which condition is true.\n"
      ],
      "metadata": {
        "id": "UJkY7AO3UpQ5"
      }
    },
    {
      "cell_type": "markdown",
      "source": [
        " 13.What is the difference between for and while loops?\n",
        "\n",
        " -> For Loops\n",
        "\n",
        " Purpose: Designed for iterating over sequences or when you know the number of iterations in advance.\n",
        "\n",
        " While Loops\n",
        "\n",
        "Purpose: Designed for repeating code while a condition remains true, especially when you don't know how many iterations you'll need."
      ],
      "metadata": {
        "id": "rzSwYPZVVBed"
      }
    },
    {
      "cell_type": "markdown",
      "source": [
        "14.Describe a scenario where a while loop is more suitable than a for loop?\n",
        "\n",
        "-> A while loop is better when you don’t know in advance how many times the loop should run, and it depends on a condition being met.\n",
        "\n",
        "A for loop is best when you know the number of iterations (like looping through a list or range).\n",
        "\n",
        "Examples where while loop is better:\n",
        "\n",
        "User Input Validation (keep asking until valid):\n",
        "\n",
        "password = \"\"\n",
        "\n",
        "while password != \"python123\":\n",
        "\n",
        "password = input(\"Enter your password: \")\n",
        "\n",
        "print(\"Access Granted\")\n"
      ],
      "metadata": {
        "id": "DNySdaVEViEG"
      }
    },
    {
      "cell_type": "code",
      "source": [
        "#Write a Python program to print \"Hello, World!\"\n",
        "print(\"Hello,World!\")"
      ],
      "metadata": {
        "colab": {
          "base_uri": "https://localhost:8080/",
          "height": 0
        },
        "id": "_jVzQYATWYQ7",
        "outputId": "44758a51-045f-4c70-ec3c-4c4741cc8959"
      },
      "execution_count": 2,
      "outputs": [
        {
          "output_type": "stream",
          "name": "stdout",
          "text": [
            "Hello,World!\n"
          ]
        }
      ]
    },
    {
      "cell_type": "code",
      "source": [
        "#Write a Python program that displays your name and age\n",
        "name = 'Nikhil Kumar Mishra'\n",
        "age = 25\n",
        "print(\"My name is \" ,name)\n",
        "print(\"My age is \" , age)"
      ],
      "metadata": {
        "colab": {
          "base_uri": "https://localhost:8080/",
          "height": 0
        },
        "id": "93uLOdOzWz_L",
        "outputId": "cb96c922-52da-4fe0-f185-072b0804b2f1"
      },
      "execution_count": 3,
      "outputs": [
        {
          "output_type": "stream",
          "name": "stdout",
          "text": [
            "My name is  Nikhil Kumar Mishra\n",
            "My age is  25\n"
          ]
        }
      ]
    },
    {
      "cell_type": "code",
      "source": [
        "#Write code to print all the pre-defined keywords in Python using the keyword library\n",
        "import keyword\n",
        "print(\"python keywords are:\")\n",
        "print(keyword.kwlist)"
      ],
      "metadata": {
        "colab": {
          "base_uri": "https://localhost:8080/",
          "height": 0
        },
        "id": "JVYtgMCPXcHV",
        "outputId": "ae4752cf-771f-4e4c-a92b-c2f832bb548e"
      },
      "execution_count": 4,
      "outputs": [
        {
          "output_type": "stream",
          "name": "stdout",
          "text": [
            "python keywords are:\n",
            "['False', 'None', 'True', 'and', 'as', 'assert', 'async', 'await', 'break', 'class', 'continue', 'def', 'del', 'elif', 'else', 'except', 'finally', 'for', 'from', 'global', 'if', 'import', 'in', 'is', 'lambda', 'nonlocal', 'not', 'or', 'pass', 'raise', 'return', 'try', 'while', 'with', 'yield']\n"
          ]
        }
      ]
    },
    {
      "cell_type": "code",
      "source": [
        "#Write a program that checks if a given word is a Python keyword.\n",
        "import keyword\n",
        "\n",
        "word = input(\"Enter a word: \")\n",
        "if keyword.iskeyword(word):\n",
        "    print(f\"{word} is a Python keyword.\")\n",
        "else:\n",
        "    print(f\"{word} is NOT a Python keyword.\")\n"
      ],
      "metadata": {
        "colab": {
          "base_uri": "https://localhost:8080/",
          "height": 0
        },
        "id": "fN5HQKk1YLml",
        "outputId": "96e00f9d-5a4b-41d0-e424-975340d5b4ac"
      },
      "execution_count": 6,
      "outputs": [
        {
          "output_type": "stream",
          "name": "stdout",
          "text": [
            "Enter a word: as\n",
            "as is a Python keyword.\n"
          ]
        }
      ]
    },
    {
      "cell_type": "code",
      "source": [
        "#  Create a list and tuple in Python, and demonstrate how attempting to change an element works differently\n",
        "#for each\n",
        "#List Example (Mutable)\n",
        "my_list = [10, 20, 30]\n",
        "print(\"Original List:\", my_list)\n",
        "\n",
        "# Changing an element in list\n",
        "my_list[1] = 99\n",
        "print(\"Modified List:\", my_list)\n",
        "\n",
        "# Tuple Example (Immutable)\n",
        "my_tuple = (10, 20, 30)\n",
        "print(\"\\nOriginal Tuple:\", my_tuple)\n",
        "\n",
        "# The below line will cause an error if we run it,\n",
        "# because tuples do not allow item assignment.\n",
        "#my_tuple[1] = 99   #  Uncommenting this will raise an error\n"
      ],
      "metadata": {
        "colab": {
          "base_uri": "https://localhost:8080/",
          "height": 0
        },
        "id": "3CCJB5CyZXpJ",
        "outputId": "8472e88f-e536-45ea-bbe2-8937ddbdf05c"
      },
      "execution_count": 8,
      "outputs": [
        {
          "output_type": "stream",
          "name": "stdout",
          "text": [
            "Original List: [10, 20, 30]\n",
            "Modified List: [10, 99, 30]\n",
            "\n",
            "Original Tuple: (10, 20, 30)\n"
          ]
        }
      ]
    },
    {
      "cell_type": "code",
      "source": [
        "#Write a function to demonstrate the behavior of mutable and immutable arguments.\n",
        "def modify(num, my_list):\n",
        "    num += 10           # immutable (int will not change outside function)\n",
        "    my_list.append(10)  # mutable (list will change outside function)\n",
        "    print(\"Inside function:\", num, my_list)\n",
        "\n",
        "x = 5\n",
        "lst = [1, 2, 3]\n",
        "modify(x, lst)\n",
        "\n",
        "print(\"Outside function:\", x, lst)\n"
      ],
      "metadata": {
        "colab": {
          "base_uri": "https://localhost:8080/",
          "height": 0
        },
        "id": "QYxr3uTraeVh",
        "outputId": "b7272e6e-007a-488e-82bb-05265602b486"
      },
      "execution_count": 9,
      "outputs": [
        {
          "output_type": "stream",
          "name": "stdout",
          "text": [
            "Inside function: 15 [1, 2, 3, 10]\n",
            "Outside function: 5 [1, 2, 3, 10]\n"
          ]
        }
      ]
    },
    {
      "cell_type": "code",
      "source": [
        "#Write a program that performs basic arithmetic operations on two user-input numbers.\n",
        "a = int(input(\"Enter first number: \"))\n",
        "b = int(input(\"Enter second number: \"))\n",
        "\n",
        "print(\"Addition:\", a + b)\n",
        "print(\"Subtraction:\", a - b)\n",
        "print(\"Multiplication:\", a * b)\n",
        "print(\"Division:\", a / b)\n",
        "print(\"Floor Division:\", a // b)\n",
        "print(\"Modulus:\", a % b)\n",
        "print(\"Power:\", a ** b)\n"
      ],
      "metadata": {
        "colab": {
          "base_uri": "https://localhost:8080/",
          "height": 0
        },
        "id": "ZY8n2LTPdL1k",
        "outputId": "77386216-afc1-494b-d6a5-2917bb884c55"
      },
      "execution_count": 10,
      "outputs": [
        {
          "output_type": "stream",
          "name": "stdout",
          "text": [
            "Enter first number: 14\n",
            "Enter second number: 2\n",
            "Addition: 16\n",
            "Subtraction: 12\n",
            "Multiplication: 28\n",
            "Division: 7.0\n",
            "Floor Division: 7\n",
            "Modulus: 0\n",
            "Power: 196\n"
          ]
        }
      ]
    },
    {
      "cell_type": "code",
      "source": [
        "#Write a program to demonstrate the use of logical operators.\n",
        "x = 10\n",
        "y = 5\n",
        "\n",
        "print(\"x > 5 and y < 10:\", x > 5 and y < 10)\n",
        "print(\"x < 5 or y < 10:\", x < 5 or y < 10)\n",
        "print(\"not(x > y):\", not(x > y))\n"
      ],
      "metadata": {
        "colab": {
          "base_uri": "https://localhost:8080/",
          "height": 0
        },
        "id": "A0XJ7HSKdXa7",
        "outputId": "14656d4f-36d4-4e71-8a04-52cb81f695d2"
      },
      "execution_count": 11,
      "outputs": [
        {
          "output_type": "stream",
          "name": "stdout",
          "text": [
            "x > 5 and y < 10: True\n",
            "x < 5 or y < 10: True\n",
            "not(x > y): False\n"
          ]
        }
      ]
    },
    {
      "cell_type": "code",
      "source": [
        "#Write a Python program to convert user input from string to integer, float, and boolean types.\n",
        "data = input(\"Enter something: \")\n",
        "\n",
        "# Always string\n",
        "print(\"As string:\", data)\n",
        "\n",
        "# Try to convert only if it's a number\n",
        "if data.isdigit():   # checks if input is only digits (like \"123\")\n",
        "    print(\"As integer:\", int(data))\n",
        "    print(\"As float:\", float(data))\n",
        "else:\n",
        "    print(\"As integer: Cannot convert, not a number\")\n",
        "    print(\"As float: Cannot convert, not a number\")\n",
        "\n",
        "# Boolean (always works)\n",
        "print(\"As boolean:\", bool(data))\n"
      ],
      "metadata": {
        "colab": {
          "base_uri": "https://localhost:8080/",
          "height": 0
        },
        "id": "neXEh88FdlT1",
        "outputId": "59c8b13b-44a1-4654-a75a-aabdf2c1acd7"
      },
      "execution_count": 15,
      "outputs": [
        {
          "output_type": "stream",
          "name": "stdout",
          "text": [
            "Enter something: nik\n",
            "As string: nik\n",
            "As integer: Cannot convert, not a number\n",
            "As float: Cannot convert, not a number\n",
            "As boolean: True\n"
          ]
        }
      ]
    },
    {
      "cell_type": "code",
      "source": [
        "#Write code to demonstrate type casting with list elements.\n",
        "numbers = [\"1\", \"2\", \"3\", \"4\"]\n",
        "print(\"Original list:\", numbers)\n",
        "\n",
        "# Convert all to integers\n",
        "int_numbers = [int(x) for x in numbers]\n",
        "print(\"After type casting:\", int_numbers)\n"
      ],
      "metadata": {
        "colab": {
          "base_uri": "https://localhost:8080/",
          "height": 0
        },
        "id": "VnRN8hLBffIw",
        "outputId": "1636b3f8-35ef-4248-b0d8-2255c53cceb5"
      },
      "execution_count": 16,
      "outputs": [
        {
          "output_type": "stream",
          "name": "stdout",
          "text": [
            "Original list: ['1', '2', '3', '4']\n",
            "After type casting: [1, 2, 3, 4]\n"
          ]
        }
      ]
    },
    {
      "cell_type": "code",
      "source": [
        "#Write a program that checks if a number is positive, negative, or zero.\n",
        "num = int(input(\"Enter a number: \"))\n",
        "\n",
        "if num > 0:\n",
        "    print(\"Positive\")\n",
        "elif num < 0:\n",
        "    print(\"Negative\")\n",
        "else:\n",
        "    print(\"Zero\")\n"
      ],
      "metadata": {
        "colab": {
          "base_uri": "https://localhost:8080/",
          "height": 0
        },
        "id": "0z_WOcyxnCgY",
        "outputId": "bf9042fc-782a-4572-de3e-a0f5a5d5715e"
      },
      "execution_count": 17,
      "outputs": [
        {
          "output_type": "stream",
          "name": "stdout",
          "text": [
            "Enter a number: 21\n",
            "Positive\n"
          ]
        }
      ]
    },
    {
      "cell_type": "code",
      "source": [
        "#Write a for loop to print numbers from 1 to 10.\n",
        "for i in range(1, 11):\n",
        "    print(i)\n"
      ],
      "metadata": {
        "colab": {
          "base_uri": "https://localhost:8080/",
          "height": 0
        },
        "id": "tHiyGhDXnL-A",
        "outputId": "d04b88b4-8755-41de-d2c7-1572e909c197"
      },
      "execution_count": 18,
      "outputs": [
        {
          "output_type": "stream",
          "name": "stdout",
          "text": [
            "1\n",
            "2\n",
            "3\n",
            "4\n",
            "5\n",
            "6\n",
            "7\n",
            "8\n",
            "9\n",
            "10\n"
          ]
        }
      ]
    },
    {
      "cell_type": "code",
      "source": [
        "#Write a Python program to find the sum of all even numbers between 1 and 50\n",
        "total = 0\n",
        "for i in range(2, 51, 2):\n",
        "    total += i\n",
        "print(\"Sum of even numbers from 1 to 50:\", total)\n"
      ],
      "metadata": {
        "colab": {
          "base_uri": "https://localhost:8080/",
          "height": 0
        },
        "id": "uHF6C9FwnRFC",
        "outputId": "b48207f8-f1ed-4f99-e5b0-2690260f196d"
      },
      "execution_count": 19,
      "outputs": [
        {
          "output_type": "stream",
          "name": "stdout",
          "text": [
            "Sum of even numbers from 1 to 50: 650\n"
          ]
        }
      ]
    },
    {
      "cell_type": "code",
      "source": [
        "#Write a program to reverse a string using a while loop.\n",
        "text = input(\"Enter a string: \")\n",
        "reversed_text = \"\"\n",
        "i = len(text) - 1\n",
        "\n",
        "while i >= 0:\n",
        "    reversed_text += text[i]\n",
        "    i -= 1\n",
        "\n",
        "print(\"Reversed string:\", reversed_text)\n"
      ],
      "metadata": {
        "colab": {
          "base_uri": "https://localhost:8080/",
          "height": 0
        },
        "id": "ZNxeFUoJnY8J",
        "outputId": "87539cee-bab8-4713-f689-46528c6f9034"
      },
      "execution_count": 20,
      "outputs": [
        {
          "output_type": "stream",
          "name": "stdout",
          "text": [
            "Enter a string: Nikhil\n",
            "Reversed string: lihkiN\n"
          ]
        }
      ]
    },
    {
      "cell_type": "code",
      "source": [
        "#Write a Python program to calculate the factorial of a number provided by the user using a while loop.\n",
        "num = int(input(\"Enter a number: \"))\n",
        "factorial = 1\n",
        "i = 1\n",
        "\n",
        "while i <= num:\n",
        "    factorial *= i\n",
        "    i += 1\n",
        "\n",
        "print(\"Factorial of\", num, \"is\", factorial)\n"
      ],
      "metadata": {
        "colab": {
          "base_uri": "https://localhost:8080/",
          "height": 0
        },
        "id": "ZOqkURU7nnKq",
        "outputId": "9e641348-ec54-44a8-e046-5eafa82a37da"
      },
      "execution_count": 22,
      "outputs": [
        {
          "output_type": "stream",
          "name": "stdout",
          "text": [
            "Enter a number: 6\n",
            "Factorial of 6 is 720\n"
          ]
        }
      ]
    }
  ]
}