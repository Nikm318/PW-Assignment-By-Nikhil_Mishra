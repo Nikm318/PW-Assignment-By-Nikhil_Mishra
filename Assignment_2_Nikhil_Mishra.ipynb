{
  "nbformat": 4,
  "nbformat_minor": 0,
  "metadata": {
    "colab": {
      "provenance": []
    },
    "kernelspec": {
      "name": "python3",
      "display_name": "Python 3"
    },
    "language_info": {
      "name": "python"
    }
  },
  "cells": [
    {
      "cell_type": "markdown",
      "source": [
        "Q1. What are data structures, and why are they important?\n",
        "\n",
        "Answer:\n",
        "A data structure is a way of organizing, managing, and storing data so that it can be accessed and modified efficiently.\n",
        "Examples: Lists, Tuples, Sets, Dictionaries, Stacks, Queues, Trees, Graphs.\n",
        "\n",
        "Importance:\n",
        "\n",
        "Efficient data access and modification.\n",
        "\n",
        "Better memory management.\n",
        "\n",
        "Makes complex problem-solving easier.\n",
        "\n",
        "Used in real-life applications like databases, operating systems, search engines."
      ],
      "metadata": {
        "id": "haYSAcQPoAXt"
      }
    },
    {
      "cell_type": "markdown",
      "source": [
        "Q2. Explain the difference between mutable and immutable data types with examples.\n",
        "\n",
        "Answer:\n",
        "\n",
        "Mutable data types: Can be changed after creation.\n",
        "Example:\n",
        "\n",
        "my_list = [1, 2, 3]\n",
        "\n",
        "my_list[0] = 10\n",
        "\n",
        "print(my_list)  # [10, 2, 3]\n",
        "\n",
        "\n",
        "Immutable data types: Cannot be changed after creation.\n",
        "Example:\n",
        "\n",
        "my_tuple = (1, 2, 3)\n",
        "# my_tuple[0] = 10  #Error: tuples are immutable"
      ],
      "metadata": {
        "id": "FCmD68gYocvE"
      }
    },
    {
      "cell_type": "markdown",
      "source": [
        "Q3. What are the main differences between lists and tuples in Python?\n",
        "\n",
        "Answer:\n",
        "\n",
        "1. Mutability\n",
        "\n",
        "Lists are mutable - you can change, add, or remove elements after creation\n",
        "\n",
        "Tuples are immutable - once created, you cannot modify their contents\n",
        "\n",
        "List - can be modified\n",
        "my_list = [1, 2, 3]\n",
        "\n",
        "my_list[0] = 10  # Works\n",
        "\n",
        "my_list.append(4)  # Works\n",
        "\n",
        "# Tuple - cannot be modified\n",
        "my_tuple = (1, 2, 3)\n",
        "\n",
        "my_tuple[0] = 10  # Raises TypeError\n",
        "\n",
        "2.Syntax\n",
        "\n",
        "Lists use square brackets []\n",
        "\n",
        "Tuples use parentheses () (or just commas)\n",
        "\n",
        "pythonmy_list = [1, 2, 3]\n",
        "my_tuple = (1, 2, 3)\n",
        "\n",
        "\n",
        "3.Performance\n",
        "\n",
        "Tuples are faster for accessing elements and take up less memory\n",
        "\n",
        "Lists have more overhead due to their mutability and additional methods\n",
        "\n",
        "This makes tuples ideal for storing data that won't change (like coordinates), while lists are better when you need to modify the collection."
      ],
      "metadata": {
        "id": "h2F0gUb2ov0S"
      }
    },
    {
      "cell_type": "markdown",
      "source": [
        "Q4. Describe how dictionaries store data.\n",
        "\n",
        "Answer:\n",
        "\n",
        "A dictionary in Python stores data as key–value pairs.\n",
        "\n",
        "Internally, it uses a hash table for fast access.\n",
        "\n",
        "Example:\n",
        "\n",
        "student = {\"name\": \"Nikhil\", \"age\": 25}\n",
        "\n",
        "print(student[\"name\"])  # Nikhil"
      ],
      "metadata": {
        "id": "8LzEaylHoqr6"
      }
    },
    {
      "cell_type": "markdown",
      "source": [
        "Q5. Why might you use a set instead of a list in Python?\n",
        "\n",
        "Answer:\n",
        "You would use a set when:\n",
        "\n",
        "You need unique elements (sets automatically remove duplicates).\n",
        "\n",
        "You need fast membership testing (in operation is faster in sets).\n",
        "\n",
        "Example:\n",
        "\n",
        "nums = [1, 2, 2, 3]\n",
        "\n",
        "unique_nums = set(nums)\n",
        "\n",
        "print(unique_nums)  # {1, 2, 3}"
      ],
      "metadata": {
        "id": "yYnnjWPQp2hh"
      }
    },
    {
      "cell_type": "markdown",
      "source": [
        "Q6. What is a string in Python, and how is it different from a list?\n",
        "\n",
        "Answer:\n",
        "\n",
        "A string is a sequence of characters enclosed in quotes (\"hello\").\n",
        "\n",
        "A list is a collection of different data types ([1, \"hi\", 3.5]).\n",
        "\n",
        "Key differences:\n",
        "\n",
        "Strings are immutable, lists are mutable.\n",
        "\n",
        "Strings store only characters, lists can store any type of data."
      ],
      "metadata": {
        "id": "UC5lh_y3p9vo"
      }
    },
    {
      "cell_type": "markdown",
      "source": [
        "Q7. How do tuples ensure data integrity in Python?\n",
        "\n",
        "Answer:\n",
        "\n",
        "Tuples are immutable, meaning data inside them cannot be changed.\n",
        "\n",
        "This ensures that once created, the data remains unchanged and safe.\n",
        "\n",
        "Example:\n",
        "\n",
        "coordinates = (10.5, 20.3)\n",
        "# coordinates[0] = 15  # Not allowed"
      ],
      "metadata": {
        "id": "HWJ_vaaLqCJJ"
      }
    },
    {
      "cell_type": "markdown",
      "source": [
        "Q8. What is a hash table, and how does it relate to dictionaries in Python?\n",
        "\n",
        "Answer:\n",
        "\n",
        "A hash table is a data structure that maps keys - values using a hash function.\n",
        "\n",
        "Python’s dictionary is implemented internally as a hash table.\n",
        "\n",
        "This allows O(1) average time complexity for lookup, insertion, and deletion."
      ],
      "metadata": {
        "id": "r_rGPMYEqHND"
      }
    },
    {
      "cell_type": "markdown",
      "source": [
        "Q9. Can lists contain different data types in Python?\n",
        "\n",
        "Answer:\n",
        "Yes, lists can store different types of elements.\n",
        "\n",
        "Example:\n",
        "\n",
        "mixed_list = [10, \"hello\", 3.14, True]\n",
        "\n",
        "print(mixed_list)  # [10, 'hello', 3.14, True]"
      ],
      "metadata": {
        "id": "kMjJ3YBqqNiN"
      }
    },
    {
      "cell_type": "markdown",
      "source": [
        "Q10. Explain why strings are immutable in Python.\n",
        "\n",
        "Answer:\n",
        "\n",
        "Strings are immutable for security, efficiency, and memory optimization.\n",
        "\n",
        "If strings were mutable, they could be changed unexpectedly, leading to bugs (e.g., in keys of dictionaries).\n",
        "\n",
        "Instead of modifying a string, Python creates a new string.\n",
        "\n",
        "Example:\n",
        "\n",
        "s = \"hello\"\n",
        "s = s + \" world\"   # Creates a new string\n",
        "\n",
        "print(s)  # hello world"
      ],
      "metadata": {
        "id": "1aw5IYDKqTa3"
      }
    },
    {
      "cell_type": "markdown",
      "source": [
        "Q11. What advantages do dictionaries offer over lists for certain tasks?\n",
        "\n",
        "Answer:\n",
        "Dictionaries are better than lists when:\n",
        "\n",
        "If we need fast lookups by a unique key (O(1) average time).\n",
        "\n",
        "if we want to store key–value pairs instead of just values.\n",
        "\n",
        "if we want to avoid searching through an entire list.\n",
        "\n",
        "Example:\n",
        "\n",
        "#Using list\n",
        "students = [[\"id1\", \"Nikhil\"], [\"id2\", \"Garima\"]]\n",
        "\n",
        "for s in students:\n",
        "\n",
        "    if s[0] == \"id2\":\n",
        "\n",
        "        print(s[1])  # Garima\n",
        "\n",
        "#Using dict (faster)\n",
        "\n",
        "students = {\"id1\": \"Nikhil\", \"id2\": \"Garima\"}\n",
        "\n",
        "print(students[\"id2\"])  # Garima"
      ],
      "metadata": {
        "id": "eZi5RUX0qYgu"
      }
    },
    {
      "cell_type": "markdown",
      "source": [
        "Q12. Describe a scenario where using a tuple would be preferable over a list.\n",
        "\n",
        "Answer:\n",
        "\n",
        "Use a tuple when data should not be modified.\n",
        "\n",
        "Example scenarios:\n",
        "\n",
        "Geographic coordinates → (28.7041, 77.1025) (latitude, longitude).\n",
        "\n",
        "Days of the week → (\"Mon\", \"Tue\", \"Wed\", \"Thu\", \"Fri\", \"Sat\", \"Sun\").\n",
        "\n",
        "As dictionary keys (lists cannot be used as keys because they are mutable)."
      ],
      "metadata": {
        "id": "wHKO1rGQq6hj"
      }
    },
    {
      "cell_type": "markdown",
      "source": [
        "Q13. How do sets handle duplicate values in Python?\n",
        "\n",
        "Answer:\n",
        "\n",
        "Sets automatically remove duplicates.\n",
        "\n",
        "Only unique values are stored.\n",
        "\n",
        "Example:\n",
        "\n",
        "my_set = {1, 2, 2, 3, 4, 4}\n",
        "\n",
        "print(my_set)  # {1, 2, 3, 4}"
      ],
      "metadata": {
        "id": "rzVCE038rEW2"
      }
    },
    {
      "cell_type": "markdown",
      "source": [
        "Q14. How does the “in” keyword work differently for lists and dictionaries?\n",
        "\n",
        "Answer:\n",
        "\n",
        "For lists - checks if the value exists.\n",
        "\n",
        "For dictionaries - checks if the key exists (not the value).\n",
        "\n",
        "Example:\n",
        "\n",
        "nums = [1, 2, 3]\n",
        "\n",
        "print(2 in nums)  # True (value check)\n",
        "\n",
        "student = {\"name\": \"Nikhil\", \"age\": 25}\n",
        "\n",
        "print(\"name\" in student)  # True (key check)\n",
        "\n",
        "print(25 in student)      # False (values not checked directly)"
      ],
      "metadata": {
        "id": "GxwzghOZrIMZ"
      }
    },
    {
      "cell_type": "markdown",
      "source": [
        "Q15. Can you modify the elements of a tuple? Explain why or why not.\n",
        "\n",
        "Answer:\n",
        "\n",
        " No, you cannot modify a tuple because it is immutable.\n",
        "\n",
        "Once created, its values cannot change.\n",
        "\n",
        "This ensures data integrity and allows tuples to be used as dictionary keys.\n",
        "\n",
        "Example:\n",
        "\n",
        "t = (1, 2, 3)\n",
        "# t[0] = 10  #  Error"
      ],
      "metadata": {
        "id": "jf6ntSrDrROv"
      }
    },
    {
      "cell_type": "markdown",
      "source": [
        "Q16. What is a nested dictionary, and give an example of its use case.\n",
        "\n",
        "Answer:\n",
        "\n",
        "A nested dictionary means a dictionary inside another dictionary.\n",
        "\n",
        "Used for representing hierarchical data (e.g., student details, JSON-like structures).\n",
        "\n",
        "Example:\n",
        "\n",
        "student = {\n",
        "  \n",
        "    \"name\": \"Nikhil\",\n",
        "    \"subjects\": {\n",
        "        \"math\": 90,\n",
        "        \"science\": 85\n",
        "    }\n",
        "}\n",
        "print(student[\"subjects\"][\"math\"])  # 90"
      ],
      "metadata": {
        "id": "80iGCdc_raBI"
      }
    },
    {
      "cell_type": "markdown",
      "source": [
        "Q17. Describe the time complexity of accessing elements in a dictionary.\n",
        "\n",
        "Answer:\n",
        "\n",
        "Dictionary uses a hash table internally.\n",
        "\n",
        "Average case → O(1) (constant time).\n",
        "\n",
        "Worst case (when hash collisions occur) → O(n), but rare."
      ],
      "metadata": {
        "id": "JIv5ml8wrjor"
      }
    },
    {
      "cell_type": "markdown",
      "source": [
        "Q18. In what situations are lists preferred over dictionaries?\n",
        "\n",
        "Answer:\n",
        "\n",
        "Use a list when:\n",
        "\n",
        "You only need to store values (no key–value mapping).\n",
        "\n",
        "The order of elements matters.\n",
        "\n",
        "You want to allow duplicates.\n",
        "\n",
        "Example: Storing names in order → [\"Nikhil\", \"Garima\", \"Amit\"]."
      ],
      "metadata": {
        "id": "oc_-VxGernk8"
      }
    },
    {
      "cell_type": "markdown",
      "source": [
        "Q19. Why are dictionaries considered unordered, and how does that affect data retrieval?\n",
        "\n",
        "Answer:\n",
        "\n",
        "Before Python 3.7 → dictionaries were unordered (order of keys not guaranteed).\n",
        "\n",
        "From Python 3.7+ → they maintain insertion order, but are still conceptually considered unordered (because order is not essential to their working).\n",
        "\n",
        "Retrieval is always based on keys, not positions."
      ],
      "metadata": {
        "id": "3h-s9gWErspq"
      }
    },
    {
      "cell_type": "markdown",
      "source": [
        "Q20. Explain the difference between a list and a dictionary in terms of data retrieval.\n",
        "\n",
        "Answer:\n",
        "\n",
        "List retrieval → By index (position-based).\n",
        "\n",
        "names = [\"Nikhil\", \"Garima\", \"Amit\"]\n",
        "\n",
        "print(names[1])  # Garima\n",
        "\n",
        "\n",
        "Dictionary retrieval → By key (key-based lookup).\n",
        "\n",
        "student = {\"id1\": \"Nikhil\", \"id2\": \"Garima\"}\n",
        "\n",
        "print(student[\"id2\"])  # Garima"
      ],
      "metadata": {
        "id": "D5UeDou8rxJV"
      }
    },
    {
      "cell_type": "code",
      "source": [
        "#Q1. Write a code to create a string with your name and print it.\n",
        "name = \"Nikhil Mishra\"\n",
        "print(name)\n",
        "\n",
        "\n",
        "\n",
        "\n",
        "\n",
        "\n"
      ],
      "metadata": {
        "colab": {
          "base_uri": "https://localhost:8080/"
        },
        "collapsed": true,
        "id": "jXfklyL1r83J",
        "outputId": "edf6150f-d1c3-4ec8-f58b-7f03f02dfb44"
      },
      "execution_count": 2,
      "outputs": [
        {
          "output_type": "stream",
          "name": "stdout",
          "text": [
            "Nikhil Mishra\n"
          ]
        }
      ]
    },
    {
      "cell_type": "code",
      "source": [
        "#Q2. Write a code to find the length of the string \"Hello World\".\n",
        "text = \"Hello World\"\n",
        "print(len(text))  # Output: 11"
      ],
      "metadata": {
        "colab": {
          "base_uri": "https://localhost:8080/"
        },
        "id": "kjulQ3F_sbPB",
        "outputId": "60204cf3-f707-41cd-be16-abda7c3786b3"
      },
      "execution_count": 3,
      "outputs": [
        {
          "output_type": "stream",
          "name": "stdout",
          "text": [
            "11\n"
          ]
        }
      ]
    },
    {
      "cell_type": "code",
      "source": [
        "#Q3. Write a code to slice the first 3 characters from the string \"Python Programming\".\n",
        "text = \"Python Programming\"\n",
        "print(text[:3])  # Output: Pyt"
      ],
      "metadata": {
        "colab": {
          "base_uri": "https://localhost:8080/"
        },
        "id": "t6RpvREGses6",
        "outputId": "b723e30a-bddf-4eac-c240-55d6095b10e5"
      },
      "execution_count": 4,
      "outputs": [
        {
          "output_type": "stream",
          "name": "stdout",
          "text": [
            "Pyt\n"
          ]
        }
      ]
    },
    {
      "cell_type": "code",
      "source": [
        "#Q4. Write a code to convert the string \"hello\" to uppercase.\n",
        "text = \"hello\"\n",
        "print(text.upper())  # Output: HELLO"
      ],
      "metadata": {
        "colab": {
          "base_uri": "https://localhost:8080/"
        },
        "id": "a_FCezZysjju",
        "outputId": "38f35670-8ed9-4f48-ee52-20ce0a6dc4c3"
      },
      "execution_count": 5,
      "outputs": [
        {
          "output_type": "stream",
          "name": "stdout",
          "text": [
            "HELLO\n"
          ]
        }
      ]
    },
    {
      "cell_type": "code",
      "source": [
        "\n",
        "#Q5. Write a code to replace the word \"apple\" with \"orange\" in the string \"I like apple\".\n",
        "text = \"I like apple\"\n",
        "print(text.replace(\"apple\", \"orange\"))  # Output: I like orange\n",
        "\n"
      ],
      "metadata": {
        "colab": {
          "base_uri": "https://localhost:8080/"
        },
        "id": "Kw3ajbu8sq_S",
        "outputId": "9631d78b-e065-4b9f-94bf-de54e6237a2c"
      },
      "execution_count": 6,
      "outputs": [
        {
          "output_type": "stream",
          "name": "stdout",
          "text": [
            "I like orange\n"
          ]
        }
      ]
    },
    {
      "cell_type": "code",
      "source": [
        "#Q6. Write a code to create a list with numbers 1 to 5 and print it.\n",
        "numbers = [1, 2, 3, 4, 5]\n",
        "print(numbers)\n",
        "\n"
      ],
      "metadata": {
        "colab": {
          "base_uri": "https://localhost:8080/"
        },
        "id": "D_X355sGsvPb",
        "outputId": "e8d945f0-2896-4363-9cd3-13a4254c2dfa"
      },
      "execution_count": 7,
      "outputs": [
        {
          "output_type": "stream",
          "name": "stdout",
          "text": [
            "[1, 2, 3, 4, 5]\n"
          ]
        }
      ]
    },
    {
      "cell_type": "code",
      "source": [
        "#Q7. Write a code to append the number 10 to the list [1, 2, 3, 4].\n",
        "numbers = [1, 2, 3, 4]\n",
        "numbers.append(10)\n",
        "print(numbers)  # Output: [1, 2, 3, 4, 10]\n",
        "\n"
      ],
      "metadata": {
        "colab": {
          "base_uri": "https://localhost:8080/"
        },
        "id": "SYypSmqas1JO",
        "outputId": "63669ddb-4099-425a-e2bc-95c0b813e792"
      },
      "execution_count": 8,
      "outputs": [
        {
          "output_type": "stream",
          "name": "stdout",
          "text": [
            "[1, 2, 3, 4, 10]\n"
          ]
        }
      ]
    },
    {
      "cell_type": "code",
      "source": [
        "#Q8. Write a code to remove the number 3 from the list [1, 2, 3, 4, 5].\n",
        "numbers = [1, 2, 3, 4, 5]\n",
        "numbers.remove(3)\n",
        "print(numbers)  # Output: [1, 2, 4, 5]\n",
        "\n"
      ],
      "metadata": {
        "colab": {
          "base_uri": "https://localhost:8080/"
        },
        "id": "qsmoAUGys99J",
        "outputId": "d84230ef-3dc0-47c5-d614-128f9daf5d74"
      },
      "execution_count": 9,
      "outputs": [
        {
          "output_type": "stream",
          "name": "stdout",
          "text": [
            "[1, 2, 4, 5]\n"
          ]
        }
      ]
    },
    {
      "cell_type": "code",
      "source": [
        "#Q9. Write a code to access the second element in the list ['a', 'b', 'c', 'd'].\n",
        "letters = ['a', 'b', 'c', 'd']\n",
        "print(letters[1])  # Output: b\n",
        "\n"
      ],
      "metadata": {
        "colab": {
          "base_uri": "https://localhost:8080/"
        },
        "id": "vimOaJ4HtAcB",
        "outputId": "af45133c-9646-4a8a-ef74-c717e7b9ec0d"
      },
      "execution_count": 10,
      "outputs": [
        {
          "output_type": "stream",
          "name": "stdout",
          "text": [
            "b\n"
          ]
        }
      ]
    },
    {
      "cell_type": "code",
      "source": [
        "#Q10. Write a code to reverse the list [10, 20, 30, 40, 50].\n",
        "numbers = [10, 20, 30, 40, 50]\n",
        "numbers.reverse()\n",
        "print(numbers)  # Output: [50, 40, 30, 20, 10]\n",
        "\n",
        "# OR (alternative way using slicing)\n",
        "print(numbers[::-1])  # Output: [50, 40, 30, 20, 10]"
      ],
      "metadata": {
        "colab": {
          "base_uri": "https://localhost:8080/"
        },
        "id": "q3Vna9ZutDjv",
        "outputId": "2f54a5d1-4f22-42b8-c527-c32e748f104d"
      },
      "execution_count": 11,
      "outputs": [
        {
          "output_type": "stream",
          "name": "stdout",
          "text": [
            "[50, 40, 30, 20, 10]\n",
            "[10, 20, 30, 40, 50]\n"
          ]
        }
      ]
    },
    {
      "cell_type": "code",
      "source": [
        "# 11. Create a tuple with elements 100, 200, 300 and print it\n",
        "tuple1 = (100, 200, 300)\n",
        "print(\"Tuple:\", tuple1)\n",
        "\n",
        "\n"
      ],
      "metadata": {
        "colab": {
          "base_uri": "https://localhost:8080/"
        },
        "id": "KIKqx7EutacB",
        "outputId": "e3ae24d1-253a-4e32-b631-66e49afc551e"
      },
      "execution_count": 12,
      "outputs": [
        {
          "output_type": "stream",
          "name": "stdout",
          "text": [
            "Tuple: (100, 200, 300)\n"
          ]
        }
      ]
    },
    {
      "cell_type": "code",
      "source": [
        "# 12. Access the second-to-last element of the tuple ('red', 'green', 'blue', 'yellow')\n",
        "colors = ('red', 'green', 'blue', 'yellow')\n",
        "print(\"Second-to-last element:\", colors[-2])\n",
        "\n"
      ],
      "metadata": {
        "colab": {
          "base_uri": "https://localhost:8080/"
        },
        "id": "ocRIWZ9hteYO",
        "outputId": "a298b270-7600-475a-f73f-04f9d88b0d0b"
      },
      "execution_count": 13,
      "outputs": [
        {
          "output_type": "stream",
          "name": "stdout",
          "text": [
            "Second-to-last element: blue\n"
          ]
        }
      ]
    },
    {
      "cell_type": "code",
      "source": [
        "# 13. Find the minimum number in the tuple (10, 20, 5, 15)\n",
        "numbers = (10, 20, 5, 15)\n",
        "print(\"Minimum number:\", min(numbers))\n",
        "\n"
      ],
      "metadata": {
        "colab": {
          "base_uri": "https://localhost:8080/"
        },
        "id": "1CJz09y7tjlr",
        "outputId": "57526b1e-762a-4456-cf9c-1e44265fc359"
      },
      "execution_count": 17,
      "outputs": [
        {
          "output_type": "stream",
          "name": "stdout",
          "text": [
            "Minimum number: 5\n"
          ]
        }
      ]
    },
    {
      "cell_type": "code",
      "source": [
        "\n",
        "# 14. Find the index of the element \"cat\" in the tuple ('dog', 'cat', 'rabbit')\n",
        "animals = ('dog', 'cat', 'rabbit')\n",
        "print(\"Index of 'cat':\", animals.index('cat'))\n",
        "\n"
      ],
      "metadata": {
        "colab": {
          "base_uri": "https://localhost:8080/"
        },
        "id": "PHzryQ1Mtkvq",
        "outputId": "d278d844-25c2-4bcd-e775-a5779637e25a"
      },
      "execution_count": 16,
      "outputs": [
        {
          "output_type": "stream",
          "name": "stdout",
          "text": [
            "Index of 'cat': 1\n"
          ]
        }
      ]
    },
    {
      "cell_type": "code",
      "source": [
        "\n",
        "# 15. Create a tuple containing three different fruits and check if \"kiwi\" is in it\n",
        "fruits = ('apple', 'banana', 'mango')\n",
        "print(\"Is 'kiwi' in tuple?\", 'kiwi' in fruits)\n",
        "\n"
      ],
      "metadata": {
        "colab": {
          "base_uri": "https://localhost:8080/"
        },
        "id": "AqHSqnyVtlzT",
        "outputId": "26c0ff84-b248-4ad7-f188-f6c287a50f8a"
      },
      "execution_count": 15,
      "outputs": [
        {
          "output_type": "stream",
          "name": "stdout",
          "text": [
            "Is 'kiwi' in tuple? False\n"
          ]
        }
      ]
    },
    {
      "cell_type": "code",
      "source": [
        "\n",
        "\n",
        "# 16. Create a set with elements 'a', 'b', 'c' and print it\n",
        "set1 = {'a', 'b', 'c'}\n",
        "print(\"Set:\", set1)\n"
      ],
      "metadata": {
        "colab": {
          "base_uri": "https://localhost:8080/"
        },
        "id": "xVNIke5vtmuf",
        "outputId": "dd4fd610-f5b7-4be4-fb24-2ed4e2d65e0d"
      },
      "execution_count": 14,
      "outputs": [
        {
          "output_type": "stream",
          "name": "stdout",
          "text": [
            "Set: {'a', 'c', 'b'}\n"
          ]
        }
      ]
    },
    {
      "cell_type": "code",
      "source": [
        "\n",
        "\n",
        "# 17. Clear all elements from the set {1, 2, 3, 4, 5}\n",
        "set2 = {1, 2, 3, 4, 5}\n",
        "set2.clear()\n",
        "print(\"Cleared set:\", set2)\n"
      ],
      "metadata": {
        "colab": {
          "base_uri": "https://localhost:8080/"
        },
        "id": "ETD0T6Y0tnvk",
        "outputId": "ffb012ab-d3f8-4989-93b1-128c9efabc89"
      },
      "execution_count": 18,
      "outputs": [
        {
          "output_type": "stream",
          "name": "stdout",
          "text": [
            "Cleared set: set()\n"
          ]
        }
      ]
    },
    {
      "cell_type": "code",
      "source": [
        "# 18. Remove the element 4 from the set {1, 2, 3, 4}\n",
        "set3 = {1, 2, 3, 4}\n",
        "set3.remove(4)\n",
        "print(\"Set after removing 4:\", set3)\n"
      ],
      "metadata": {
        "colab": {
          "base_uri": "https://localhost:8080/"
        },
        "id": "bZTTeLKltosA",
        "outputId": "3757fb23-6f77-4135-f240-1af96052027b"
      },
      "execution_count": 19,
      "outputs": [
        {
          "output_type": "stream",
          "name": "stdout",
          "text": [
            "Set after removing 4: {1, 2, 3}\n"
          ]
        }
      ]
    },
    {
      "cell_type": "code",
      "source": [
        "# 19. Find the union of two sets {1, 2, 3} and {3, 4, 5}\n",
        "set4 = {1, 2, 3}\n",
        "set5 = {3, 4, 5}\n",
        "print(\"Union of sets:\", set4.union(set5))"
      ],
      "metadata": {
        "colab": {
          "base_uri": "https://localhost:8080/"
        },
        "id": "UMMdqq4itphY",
        "outputId": "f69bdf4d-61b2-4ee7-e2de-2222a92c4173"
      },
      "execution_count": 20,
      "outputs": [
        {
          "output_type": "stream",
          "name": "stdout",
          "text": [
            "Union of sets: {1, 2, 3, 4, 5}\n"
          ]
        }
      ]
    },
    {
      "cell_type": "code",
      "source": [
        "# 20. Find the intersection of two sets {1, 2, 3} and {2, 3, 4}\n",
        "print(\"Intersection of sets:\", set4.intersection(set5))"
      ],
      "metadata": {
        "colab": {
          "base_uri": "https://localhost:8080/"
        },
        "id": "U0Sc4zwBtqbt",
        "outputId": "471ed429-eaff-4679-fe28-caa938db5dc4"
      },
      "execution_count": 21,
      "outputs": [
        {
          "output_type": "stream",
          "name": "stdout",
          "text": [
            "Intersection of sets: {3}\n"
          ]
        }
      ]
    },
    {
      "cell_type": "code",
      "source": [
        "# 21. Create a dictionary with keys \"name\", \"age\", and \"city\", and print it\n",
        "dict1 = {\"name\": \"Alice\", \"age\": 30, \"city\": \"Paris\"}\n",
        "print(\"Dictionary:\", dict1)"
      ],
      "metadata": {
        "colab": {
          "base_uri": "https://localhost:8080/"
        },
        "id": "91CPtOl_trUN",
        "outputId": "801547fd-8ca5-469e-d2c2-be0ee8f5bc53"
      },
      "execution_count": 22,
      "outputs": [
        {
          "output_type": "stream",
          "name": "stdout",
          "text": [
            "Dictionary: {'name': 'Alice', 'age': 30, 'city': 'Paris'}\n"
          ]
        }
      ]
    },
    {
      "cell_type": "code",
      "source": [
        "# 22. Add a new key-value pair \"country\": \"USA\" to the dictionary {'name': 'John', 'age': 25}\n",
        "dict2 = {'name': 'John', 'age': 25}\n",
        "dict2['country'] = 'USA'\n",
        "print(\"Updated dictionary:\", dict2)"
      ],
      "metadata": {
        "colab": {
          "base_uri": "https://localhost:8080/"
        },
        "id": "vjG6Je_FtsJE",
        "outputId": "c7061bec-4ca1-472f-9997-3dbfd6d09dae"
      },
      "execution_count": 23,
      "outputs": [
        {
          "output_type": "stream",
          "name": "stdout",
          "text": [
            "Updated dictionary: {'name': 'John', 'age': 25, 'country': 'USA'}\n"
          ]
        }
      ]
    },
    {
      "cell_type": "code",
      "source": [
        "# 23. Access the value associated with the key \"name\" in the dictionary {'name': 'Alice', 'age': 30}\n",
        "dict3 = {'name': 'Alice', 'age': 30}\n",
        "print(\"Value of 'name':\", dict3['name'])"
      ],
      "metadata": {
        "colab": {
          "base_uri": "https://localhost:8080/"
        },
        "id": "HU7DRLB6ttHC",
        "outputId": "4f55195d-d722-4bd4-dca1-1d2993c8c178"
      },
      "execution_count": 24,
      "outputs": [
        {
          "output_type": "stream",
          "name": "stdout",
          "text": [
            "Value of 'name': Alice\n"
          ]
        }
      ]
    },
    {
      "cell_type": "code",
      "source": [
        "# 24. Remove the key \"age\" from the dictionary {'name': 'Bob', 'age': 22, 'city': 'New York'}\n",
        "dict4 = {'name': 'Bob', 'age': 22, 'city': 'New York'}\n",
        "dict4.pop('age')\n",
        "print(\"Dictionary after removing 'age':\", dict4)"
      ],
      "metadata": {
        "colab": {
          "base_uri": "https://localhost:8080/"
        },
        "id": "wqRpwYx-tuHG",
        "outputId": "e9504f97-05a8-4773-bd60-5c60a801875f"
      },
      "execution_count": 25,
      "outputs": [
        {
          "output_type": "stream",
          "name": "stdout",
          "text": [
            "Dictionary after removing 'age': {'name': 'Bob', 'city': 'New York'}\n"
          ]
        }
      ]
    },
    {
      "cell_type": "code",
      "source": [
        "# 25. Check if the key \"city\" exists in the dictionary {'name': 'Alice', 'city': 'Paris'}\n",
        "dict5 = {'name': 'Alice', 'city': 'Paris'}\n",
        "print(\"Does 'city' exist?\", 'city' in dict5)"
      ],
      "metadata": {
        "colab": {
          "base_uri": "https://localhost:8080/"
        },
        "id": "6ISfZXVotu_n",
        "outputId": "297b8bd4-78a0-4e62-baa1-c3402a0d8af4"
      },
      "execution_count": 26,
      "outputs": [
        {
          "output_type": "stream",
          "name": "stdout",
          "text": [
            "Does 'city' exist? True\n"
          ]
        }
      ]
    },
    {
      "cell_type": "code",
      "source": [
        "# 26. Create a list, a tuple, and a dictionary, and print them all\n",
        "my_list = [1, 2, 3]\n",
        "my_tuple = (4, 5, 6)\n",
        "my_dict = {'a': 10, 'b': 20}\n",
        "print(\"List:\", my_list)\n",
        "print(\"Tuple:\", my_tuple)\n",
        "print(\"Dictionary:\", my_dict)"
      ],
      "metadata": {
        "colab": {
          "base_uri": "https://localhost:8080/"
        },
        "id": "4fVpCf47tv8c",
        "outputId": "46f01ea0-921a-4def-cd4c-9ec07098ddf3"
      },
      "execution_count": 27,
      "outputs": [
        {
          "output_type": "stream",
          "name": "stdout",
          "text": [
            "List: [1, 2, 3]\n",
            "Tuple: (4, 5, 6)\n",
            "Dictionary: {'a': 10, 'b': 20}\n"
          ]
        }
      ]
    },
    {
      "cell_type": "code",
      "source": [
        "# 27. Create a list of 5 random numbers between 1 and 100, sort it in ascending order, and print the result\n",
        "import random\n",
        "rand_list = [random.randint(1, 100) for _ in range(5)]\n",
        "rand_list.sort()\n",
        "print(\"Sorted random numbers:\", rand_list)"
      ],
      "metadata": {
        "colab": {
          "base_uri": "https://localhost:8080/"
        },
        "id": "C8GvwUOutw3G",
        "outputId": "95768b79-0677-4258-affa-6288fe3840ac"
      },
      "execution_count": 28,
      "outputs": [
        {
          "output_type": "stream",
          "name": "stdout",
          "text": [
            "Sorted random numbers: [19, 38, 39, 41, 43]\n"
          ]
        }
      ]
    },
    {
      "cell_type": "code",
      "source": [
        "# 28. Create a list with strings and print the element at the third index\n",
        "string_list = ['apple', 'banana', 'cherry', 'date', 'fig']\n",
        "print(\"Element at index 3:\", string_list[3])"
      ],
      "metadata": {
        "colab": {
          "base_uri": "https://localhost:8080/"
        },
        "id": "V3baH94stxsO",
        "outputId": "5cfb6139-aba0-4efe-d0e6-88be565ca56a"
      },
      "execution_count": 29,
      "outputs": [
        {
          "output_type": "stream",
          "name": "stdout",
          "text": [
            "Element at index 3: date\n"
          ]
        }
      ]
    },
    {
      "cell_type": "code",
      "source": [
        "# 29. Combine two dictionaries into one and print the result\n",
        "dict6 = {'a': 1, 'b': 2}\n",
        "dict7 = {'c': 3, 'd': 4}\n",
        "combined_dict = {**dict6, **dict7}\n",
        "print(\"Combined dictionary:\", combined_dict)"
      ],
      "metadata": {
        "colab": {
          "base_uri": "https://localhost:8080/"
        },
        "id": "eAItc5oFtyfy",
        "outputId": "6da80cdf-205b-46db-940a-8fb962f61ce5"
      },
      "execution_count": 30,
      "outputs": [
        {
          "output_type": "stream",
          "name": "stdout",
          "text": [
            "Combined dictionary: {'a': 1, 'b': 2, 'c': 3, 'd': 4}\n"
          ]
        }
      ]
    },
    {
      "cell_type": "code",
      "source": [
        "# 30. Convert a list of strings into a set\n",
        "string_list2 = ['apple', 'banana', 'apple', 'cherry']\n",
        "string_set = set(string_list2)\n",
        "print(\"Set from list:\", string_set)"
      ],
      "metadata": {
        "colab": {
          "base_uri": "https://localhost:8080/"
        },
        "id": "aN6EWRO0tzg0",
        "outputId": "dd1589b5-e0dc-4ad1-8f7f-87eb419eba1c"
      },
      "execution_count": 31,
      "outputs": [
        {
          "output_type": "stream",
          "name": "stdout",
          "text": [
            "Set from list: {'apple', 'banana', 'cherry'}\n"
          ]
        }
      ]
    }
  ]
}